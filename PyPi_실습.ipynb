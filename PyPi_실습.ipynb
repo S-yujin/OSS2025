{
  "nbformat": 4,
  "nbformat_minor": 0,
  "metadata": {
    "colab": {
      "provenance": [],
      "authorship_tag": "ABX9TyNxX3tbdH23SV6dnIdbevSB",
      "include_colab_link": true
    },
    "kernelspec": {
      "name": "python3",
      "display_name": "Python 3"
    },
    "language_info": {
      "name": "python"
    }
  },
  "cells": [
    {
      "cell_type": "markdown",
      "metadata": {
        "id": "view-in-github",
        "colab_type": "text"
      },
      "source": [
        "<a href=\"https://colab.research.google.com/github/S-yujin/OSS2025/blob/main/PyPi_%EC%8B%A4%EC%8A%B5.ipynb\" target=\"_parent\"><img src=\"https://colab.research.google.com/assets/colab-badge.svg\" alt=\"Open In Colab\"/></a>"
      ]
    },
    {
      "cell_type": "code",
      "execution_count": 2,
      "metadata": {
        "colab": {
          "base_uri": "https://localhost:8080/"
        },
        "id": "ZS-qIJbkUUgW",
        "outputId": "5514748b-bc65-49d1-d47d-6c7328fe5d23"
      },
      "outputs": [
        {
          "output_type": "stream",
          "name": "stdout",
          "text": [
            "Overwriting setup.py\n"
          ]
        }
      ],
      "source": [
        "%%writefile setup.py\n",
        "\n",
        "import setuptools\n",
        "\n",
        "setuptools.setup(\n",
        "    name = \"myoutube\",\n",
        "    version = \"0.0.1\",\n",
        "    author = \"yujin\",\n",
        "    packages = ['myoutube'],\n",
        ")"
      ]
    },
    {
      "cell_type": "code",
      "source": [
        "Overwriting setup.py"
      ],
      "metadata": {
        "colab": {
          "base_uri": "https://localhost:8080/",
          "height": 110
        },
        "id": "Tn5CKolUWhUC",
        "outputId": "d5d1f66e-401a-4dac-a592-1eb49c415c56"
      },
      "execution_count": 4,
      "outputs": [
        {
          "output_type": "error",
          "ename": "SyntaxError",
          "evalue": "invalid syntax (<ipython-input-4-6312f547f2a9>, line 1)",
          "traceback": [
            "\u001b[0;36m  File \u001b[0;32m\"<ipython-input-4-6312f547f2a9>\"\u001b[0;36m, line \u001b[0;32m1\u001b[0m\n\u001b[0;31m    Overwriting setup.py\u001b[0m\n\u001b[0m                ^\u001b[0m\n\u001b[0;31mSyntaxError\u001b[0m\u001b[0;31m:\u001b[0m invalid syntax\n"
          ]
        }
      ]
    },
    {
      "cell_type": "code",
      "source": [
        "%%writefile myoutube/app.py\n",
        "def add(a,b):\n",
        "    return a + b\n",
        "\n",
        "print(add(1,2))"
      ],
      "metadata": {
        "colab": {
          "base_uri": "https://localhost:8080/"
        },
        "id": "v39sE-YjWgXk",
        "outputId": "2f92ecb0-7519-4241-b23b-f03d4fe6bb4c"
      },
      "execution_count": 5,
      "outputs": [
        {
          "output_type": "stream",
          "name": "stdout",
          "text": [
            "Overwriting myoutube/app.py\n"
          ]
        }
      ]
    },
    {
      "cell_type": "code",
      "source": [
        "!python setup.py bdist_wheel\n",
        "#/content/dist/myoutube...?"
      ],
      "metadata": {
        "colab": {
          "base_uri": "https://localhost:8080/"
        },
        "id": "15_vzpMyXoly",
        "outputId": "fff08f54-8e74-4ac7-f548-427e6eda947e"
      },
      "execution_count": 6,
      "outputs": [
        {
          "output_type": "stream",
          "name": "stdout",
          "text": [
            "running bdist_wheel\n",
            "running build\n",
            "running build_py\n",
            "creating build/lib/myoutube\n",
            "copying myoutube/app.py -> build/lib/myoutube\n",
            "/usr/local/lib/python3.11/dist-packages/setuptools/_distutils/cmd.py:66: SetuptoolsDeprecationWarning: setup.py install is deprecated.\n",
            "!!\n",
            "\n",
            "        ********************************************************************************\n",
            "        Please avoid running ``setup.py`` directly.\n",
            "        Instead, use pypa/build, pypa/installer or other\n",
            "        standards-based tools.\n",
            "\n",
            "        See https://blog.ganssle.io/articles/2021/10/setup-py-deprecated.html for details.\n",
            "        ********************************************************************************\n",
            "\n",
            "!!\n",
            "  self.initialize_options()\n",
            "installing to build/bdist.linux-x86_64/wheel\n",
            "running install\n",
            "running install_lib\n",
            "creating build/bdist.linux-x86_64/wheel\n",
            "creating build/bdist.linux-x86_64/wheel/myoutube\n",
            "copying build/lib/myoutube/app.py -> build/bdist.linux-x86_64/wheel/./myoutube\n",
            "running install_egg_info\n",
            "running egg_info\n",
            "creating myoutube.egg-info\n",
            "writing myoutube.egg-info/PKG-INFO\n",
            "writing dependency_links to myoutube.egg-info/dependency_links.txt\n",
            "writing top-level names to myoutube.egg-info/top_level.txt\n",
            "writing manifest file 'myoutube.egg-info/SOURCES.txt'\n",
            "reading manifest file 'myoutube.egg-info/SOURCES.txt'\n",
            "writing manifest file 'myoutube.egg-info/SOURCES.txt'\n",
            "Copying myoutube.egg-info to build/bdist.linux-x86_64/wheel/./myoutube-0.0.1-py3.11.egg-info\n",
            "running install_scripts\n",
            "creating build/bdist.linux-x86_64/wheel/myoutube-0.0.1.dist-info/WHEEL\n",
            "creating 'dist/myoutube-0.0.1-py3-none-any.whl' and adding 'build/bdist.linux-x86_64/wheel' to it\n",
            "adding 'myoutube/app.py'\n",
            "adding 'myoutube-0.0.1.dist-info/METADATA'\n",
            "adding 'myoutube-0.0.1.dist-info/WHEEL'\n",
            "adding 'myoutube-0.0.1.dist-info/top_level.txt'\n",
            "adding 'myoutube-0.0.1.dist-info/RECORD'\n",
            "removing build/bdist.linux-x86_64/wheel\n"
          ]
        }
      ]
    },
    {
      "cell_type": "code",
      "source": [
        "__init__.py"
      ],
      "metadata": {
        "id": "I9tpB958Zc34"
      },
      "execution_count": null,
      "outputs": []
    }
  ]
}